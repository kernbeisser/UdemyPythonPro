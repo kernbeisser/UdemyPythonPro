{
 "cells": [
  {
   "cell_type": "code",
   "execution_count": 5,
   "metadata": {},
   "outputs": [],
   "source": [
    "class NamesIterator:\n",
    "    def __init__(self, names):\n",
    "        self.names = names\n",
    "        self.num_names = len(self.names)\n",
    "        self.current_n = 0\n",
    "\n",
    "    def __iter__(self):\n",
    "        self.current_n = 0\n",
    "        return self\n",
    "\n",
    "    def __next__(self):\n",
    "        if self.current_n < self.num_names:\n",
    "            current_result = self.names[self.current_n]\n",
    "            self.current_n += 1\n",
    "            return current_result\n",
    "        else:\n",
    "            self.current_n = 0\n",
    "            current_result = self.names[self.current_n]\n",
    "            self.current_n += 1\n",
    "            return current_result"
   ]
  },
  {
   "cell_type": "code",
   "execution_count": 20,
   "metadata": {},
   "outputs": [],
   "source": [
    "class PowerOfTwo():\n",
    "    def __init__(self, N):\n",
    "        self.N = N\n",
    "\n",
    "    def __iter__(self):        \n",
    "        self.current_n = 0\n",
    "        return self\n",
    "    \n",
    "    def __next__(self):\n",
    "        if self.current_n <= self.N:\n",
    "            self.current_n += 1\n",
    "            return 2**self.current_n\n",
    "        else:\n",
    "            raise StopIteration\n",
    "    "
   ]
  },
  {
   "cell_type": "code",
   "execution_count": 25,
   "metadata": {},
   "outputs": [
    {
     "output_type": "stream",
     "name": "stdout",
     "text": [
      "       2\n       4\n       8\n      16\n      32\n      64\n     128\n     256\n     512\n    1024\n    2048\n"
     ]
    }
   ],
   "source": [
    "p = PowerOfTwo(10)\n",
    "for i in p:\n",
    "    print(f\"{int(i):8}\")"
   ]
  },
  {
   "cell_type": "code",
   "execution_count": 6,
   "metadata": {
    "tags": []
   },
   "outputs": [
    {
     "output_type": "stream",
     "name": "stdout",
     "text": [
      "Jan\nPeter\nDennis\nJan\nPeter\nDennis\nJan\n"
     ]
    }
   ],
   "source": [
    "names = [\"Jan\", \"Peter\", \"Dennis\"]\n",
    "\n",
    "my_iterator = NamesIterator(names)\n",
    "\n",
    "for i in range(7):\n",
    "    print(next(my_iterator))"
   ]
  },
  {
   "cell_type": "code",
   "execution_count": 44,
   "metadata": {},
   "outputs": [
    {
     "output_type": "stream",
     "name": "stdout",
     "text": "Jan\nPeter\nDennis\nJan\nPeter\nDennis\nJan\n"
    }
   ],
   "source": [
    "import itertools\n",
    "\n",
    "names2 = [\"Jan\", \"Peter\", \"Dennis\"]\n",
    "\n",
    "my_iterator2 = itertools.cycle(names)\n",
    "\n",
    "for i in range(7):\n",
    "    print(next(my_iterator2))"
   ]
  },
  {
   "cell_type": "code",
   "execution_count": 29,
   "metadata": {},
   "outputs": [],
   "source": [
    "class MyGen():\n",
    "    def __init__(self):\n",
    "        self._exponent = 0\n",
    "\n",
    "    def power_of_two(self):\n",
    "        self._exponent +=1\n",
    "        yield 2**self._exponent\n"
   ]
  },
  {
   "cell_type": "code",
   "execution_count": 30,
   "metadata": {},
   "outputs": [
    {
     "output_type": "execute_result",
     "data": {
      "text/plain": [
       "[2, 4, 8, 16, 32, 64, 128, 256, 512, 1024]"
      ]
     },
     "metadata": {},
     "execution_count": 30
    }
   ],
   "source": [
    "mg = MyGen()\n",
    "[next(mg.power_of_two()) for _ in range(10)]"
   ]
  },
  {
   "cell_type": "code",
   "execution_count": null,
   "metadata": {},
   "outputs": [],
   "source": []
  }
 ],
 "metadata": {
  "language_info": {
   "name": "python",
   "codemirror_mode": {
    "name": "ipython",
    "version": 3
   },
   "version": "3.8.5"
  },
  "orig_nbformat": 2,
  "file_extension": ".py",
  "mimetype": "text/x-python",
  "name": "python",
  "npconvert_exporter": "python",
  "pygments_lexer": "ipython3",
  "version": 3,
  "kernelspec": {
   "name": "python385jvsc74a57bd030b9a21e9bf1de12820e893d06bf6b798ee7996149c0a8aa3ef6cb8bb298fd8b",
   "display_name": "Python 3.8.5 64-bit ('base': conda)"
  }
 },
 "nbformat": 4,
 "nbformat_minor": 2
}