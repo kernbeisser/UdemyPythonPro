{
 "nbformat": 4,
 "nbformat_minor": 2,
 "metadata": {
  "language_info": {
   "name": "python",
   "codemirror_mode": {
    "name": "ipython",
    "version": 3
   },
   "version": "3.8.5"
  },
  "orig_nbformat": 2,
  "file_extension": ".py",
  "mimetype": "text/x-python",
  "name": "python",
  "npconvert_exporter": "python",
  "pygments_lexer": "ipython3",
  "version": 3,
  "kernelspec": {
   "name": "python385jvsc74a57bd030b9a21e9bf1de12820e893d06bf6b798ee7996149c0a8aa3ef6cb8bb298fd8b",
   "display_name": "Python 3.8.5 64-bit ('base': conda)"
  }
 },
 "cells": [
  {
   "cell_type": "code",
   "execution_count": 5,
   "metadata": {},
   "outputs": [],
   "source": [
    "import math\n",
    "\n",
    "class Pizza:\n",
    "    def __init__(self, radius=36.0, ingredients=None):\n",
    "        self.radius = radius\n",
    "        if self.radius < 28.0:\n",
    "            self.radius = 28.0\n",
    "        elif self.radius > 64.0:\n",
    "            self.radius = 64.0\n",
    "        if ingredients:\n",
    "            self.ingredients = ingredients\n",
    "        else:\n",
    "            self.ingredients = ['cheese', 'tomatoes']\n",
    "        self.pizza_dough_price = 0.001\n",
    "        self.ingredients_price = 1.50\n",
    "\n",
    "    def __str__(self):\n",
    "        return f'Size={self.radius}, Ingeredients={self.ingredients}, Price={self.price()}'\n",
    "\n",
    "    def __repr__(self):\n",
    "        return self.__str__()\n",
    "\n",
    "    def add_ingredient(self, ingredients):\n",
    "        self.ingredients.extend(ingredients)\n",
    "\n",
    "    @classmethod\n",
    "    def salami(cls, radius=36.0):\n",
    "        return cls(radius=radius, ingredients=['cheese', 'tomatoes', 'salami'])\n",
    "\n",
    "    @classmethod\n",
    "    def prosciutto(cls, radius=36.0):\n",
    "        return cls(radius=radius, ingredients=['cheese', 'tomatoes', 'ham'])\n",
    "\n",
    "    def price(self):\n",
    "        toal_pizza_dough_price = self.pizza_dough_price * Pizza.circle_area(self.radius)\n",
    "        total_ingredients_price = self.ingredients_price * len(self.ingredients)\n",
    "        return round(toal_pizza_dough_price + total_ingredients_price, 2)\n",
    "\n",
    "    @staticmethod\n",
    "    def circle_area(radius):\n",
    "        return (radius**2) * math.pi"
   ]
  },
  {
   "cell_type": "code",
   "execution_count": 6,
   "metadata": {},
   "outputs": [
    {
     "output_type": "stream",
     "name": "stdout",
     "text": [
      "Size=28.0, Ingeredients=['cheese', 'tomatoes', 'pepper'], Price=6.96\n"
     ]
    }
   ],
   "source": [
    "pizza1 = Pizza(radius=28.0)\n",
    "pizza1.add_ingredient(['pepper'])\n",
    "print(pizza1)"
   ]
  },
  {
   "cell_type": "code",
   "execution_count": 7,
   "metadata": {},
   "outputs": [
    {
     "output_type": "stream",
     "name": "stdout",
     "text": [
      "Size=36.0, Ingeredients=['cheese', 'tomatoes', 'salami'], Price=8.57\nSize=36.0, Ingeredients=['cheese', 'tomatoes', 'ham'], Price=8.57\n"
     ]
    }
   ],
   "source": [
    "pizza2 = Pizza.salami()\n",
    "print(pizza2)\n",
    "\n",
    "pizza3 = Pizza.prosciutto()\n",
    "print(pizza3)"
   ]
  },
  {
   "cell_type": "code",
   "execution_count": null,
   "metadata": {},
   "outputs": [],
   "source": []
  }
 ]
}