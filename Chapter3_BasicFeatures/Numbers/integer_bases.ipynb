{
 "nbformat": 4,
 "nbformat_minor": 2,
 "metadata": {
  "language_info": {
   "name": "python",
   "codemirror_mode": {
    "name": "ipython",
    "version": 3
   },
   "version": "3.8.5"
  },
  "orig_nbformat": 2,
  "file_extension": ".py",
  "mimetype": "text/x-python",
  "name": "python",
  "npconvert_exporter": "python",
  "pygments_lexer": "ipython3",
  "version": 3,
  "kernelspec": {
   "name": "python385jvsc74a57bd030b9a21e9bf1de12820e893d06bf6b798ee7996149c0a8aa3ef6cb8bb298fd8b",
   "display_name": "Python 3.8.5 64-bit ('base': conda)"
  }
 },
 "cells": [
  {
   "cell_type": "code",
   "execution_count": 1,
   "metadata": {
    "tags": []
   },
   "outputs": [
    {
     "output_type": "stream",
     "name": "stdout",
     "text": [
      "42 <class 'int'>\n"
     ]
    }
   ],
   "source": [
    "my_vlaue = 42\n",
    "print(my_vlaue, type(my_vlaue))"
   ]
  },
  {
   "cell_type": "code",
   "execution_count": 2,
   "metadata": {
    "tags": []
   },
   "outputs": [
    {
     "output_type": "stream",
     "name": "stdout",
     "text": [
      "42 <class 'int'>\n"
     ]
    }
   ],
   "source": [
    "# From [2, 36], decimal (base 10)\n",
    "my_vlaue2 = int(\"42\", base=10)\n",
    "print(my_vlaue2, type(my_vlaue2))"
   ]
  },
  {
   "cell_type": "code",
   "execution_count": 3,
   "metadata": {
    "tags": []
   },
   "outputs": [
    {
     "output_type": "stream",
     "name": "stdout",
     "text": [
      "42 <class 'int'>\n"
     ]
    }
   ],
   "source": [
    "# 1 0 1 0 1 0\n",
    "\n",
    "# 32 16 8 4 2 1\n",
    "# 1  0  1 0 1 0\n",
    "my_vlaue3 = int(\"101010\", base=2)\n",
    "print(my_vlaue3, type(my_vlaue3))"
   ]
  },
  {
   "cell_type": "code",
   "execution_count": 4,
   "metadata": {
    "tags": []
   },
   "outputs": [
    {
     "output_type": "stream",
     "name": "stdout",
     "text": [
      "42 <class 'int'>\n"
     ]
    }
   ],
   "source": [
    "# 0010 1010\n",
    "# 2a\n",
    "my_vlaue4 = int(\"2a\", base=16)\n",
    "print(my_vlaue4, type(my_vlaue4))"
   ]
  },
  {
   "cell_type": "code",
   "execution_count": 5,
   "metadata": {
    "tags": []
   },
   "outputs": [
    {
     "output_type": "stream",
     "name": "stdout",
     "text": [
      "42 <class 'int'>\n1052688 <class 'int'>\n33288 <class 'int'>\n"
     ]
    }
   ],
   "source": [
    "my_value5 = 0b101010\n",
    "print(my_value5, type(my_value5))\n",
    "my_value6 = 0x101010\n",
    "print(my_value6, type(my_value6))\n",
    "my_value7 = 0o101010\n",
    "print(my_value7, type(my_value7))"
   ]
  },
  {
   "cell_type": "code",
   "execution_count": 6,
   "metadata": {
    "tags": []
   },
   "outputs": [
    {
     "output_type": "stream",
     "name": "stdout",
     "text": [
      "0b101010 <class 'str'>\n0o52 <class 'str'>\n0x2a <class 'str'>\n"
     ]
    }
   ],
   "source": [
    "my_value = 42\n",
    "print(bin(my_value), type(bin(my_value)))\n",
    "print(oct(my_value), type(oct(my_value)))\n",
    "print(hex(my_value), type(hex(my_value)))"
   ]
  }
 ]
}