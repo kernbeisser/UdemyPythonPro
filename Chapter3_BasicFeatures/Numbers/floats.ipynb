{
 "nbformat": 4,
 "nbformat_minor": 2,
 "metadata": {
  "language_info": {
   "name": "python",
   "codemirror_mode": {
    "name": "ipython",
    "version": 3
   },
   "version": "3.8.5"
  },
  "orig_nbformat": 2,
  "file_extension": ".py",
  "mimetype": "text/x-python",
  "name": "python",
  "npconvert_exporter": "python",
  "pygments_lexer": "ipython3",
  "version": 3,
  "kernelspec": {
   "name": "python385jvsc74a57bd030b9a21e9bf1de12820e893d06bf6b798ee7996149c0a8aa3ef6cb8bb298fd8b",
   "display_name": "Python 3.8.5 64-bit ('base': conda)"
  }
 },
 "cells": [
  {
   "cell_type": "code",
   "execution_count": 10,
   "metadata": {},
   "outputs": [
    {
     "output_type": "stream",
     "name": "stdout",
     "text": [
      "42000000.0\n4.2\n0.42\n0.042\n"
     ]
    }
   ],
   "source": [
    "# Float, Double\n",
    "# Floats in a computer: rational numbers\n",
    "# Floats in python: fixed size (64bits = 8Byte)\n",
    "\n",
    "\"\"\"\n",
    "sign: 1bit\n",
    "exponent: 11bits\n",
    "significant bits: 52bits\n",
    "\"\"\"\n",
    "my_value = 42e+06 # 42 * 10^6\n",
    "print(f'{my_value}')\n",
    "my_value = 42e-01 # 42 * 10^-1\n",
    "print(f'{my_value}')\n",
    "my_value = 42e-02 # 42 * 10^-2\n",
    "print(f'{my_value}')\n",
    "my_value = 42e-03 # 42 * 10^-3\n",
    "print(f'{my_value}')"
   ]
  },
  {
   "cell_type": "code",
   "execution_count": 3,
   "metadata": {},
   "outputs": [
    {
     "output_type": "stream",
     "name": "stdout",
     "text": [
      "42.10000000000000142108547152020037 <class 'float'>\n42.10000000000000142108547152020037 <class 'float'>\n"
     ]
    }
   ],
   "source": [
    "my_value2 = 42.1\n",
    "print('{:.32f}'.format(my_value2), type(my_value2))\n",
    "\n",
    "my_value3 = float(\"42.1\")\n",
    "print('{:.32f}'.format(my_value3), type(my_value3))"
   ]
  },
  {
   "cell_type": "code",
   "execution_count": 12,
   "metadata": {},
   "outputs": [],
   "source": [
    "# my_value4 = float(\"13/3\")"
   ]
  },
  {
   "cell_type": "code",
   "execution_count": 5,
   "metadata": {},
   "outputs": [
    {
     "output_type": "stream",
     "name": "stdout",
     "text": [
      "0.01000000000000000020816681711722 <class 'float'>\n0.30000000000000004440892098500626 <class 'float'>\n0.10000000000000000555111512312578 <class 'float'>\n0.29999999999999998889776975374843 <class 'float'>\nFalse\n0.50000000000000000000000000000000 <class 'float'>\n"
     ]
    }
   ],
   "source": [
    "my_fraction = 1 / 100\n",
    "print('{:.32f}'.format(my_fraction), type(my_fraction))\n",
    "\n",
    "my_addition = 1 / 10 + 1 / 10 + 1 / 10\n",
    "print('{:.32f}'.format(my_addition), type(my_addition))\n",
    "\n",
    "print('{:.32f}'.format(0.1), type(0.1))\n",
    "print('{:.32f}'.format(0.3), type(0.3))\n",
    "\n",
    "print(my_addition == 0.3)\n",
    "\n",
    "print('{:.32f}'.format(0.5), type(0.5))"
   ]
  }
 ]
}