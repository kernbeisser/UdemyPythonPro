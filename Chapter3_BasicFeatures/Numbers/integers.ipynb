{
 "nbformat": 4,
 "nbformat_minor": 2,
 "metadata": {
  "language_info": {
   "name": "python",
   "codemirror_mode": {
    "name": "ipython",
    "version": 3
   },
   "version": "3.8.5"
  },
  "orig_nbformat": 2,
  "file_extension": ".py",
  "mimetype": "text/x-python",
  "name": "python",
  "npconvert_exporter": "python",
  "pygments_lexer": "ipython3",
  "version": 3,
  "kernelspec": {
   "name": "python385jvsc74a57bd030b9a21e9bf1de12820e893d06bf6b798ee7996149c0a8aa3ef6cb8bb298fd8b",
   "display_name": "Python 3.8.5 64-bit ('base': conda)"
  }
 },
 "cells": [
  {
   "cell_type": "code",
   "execution_count": 1,
   "metadata": {
    "tags": []
   },
   "outputs": [
    {
     "output_type": "stream",
     "name": "stdout",
     "text": [
      "<class 'int'>\nIt is an integer!\n"
     ]
    }
   ],
   "source": [
    "# C/C++/Jave: int (32bit/8Byte) -2MRD, +2MRD\n",
    "# The python int object type uses a variable number of bits\n",
    "\n",
    "my_value = 42\n",
    "print(type(my_value))\n",
    "\n",
    "if isinstance(my_value, int):\n",
    "    print(\"It is an integer!\")"
   ]
  },
  {
   "cell_type": "code",
   "execution_count": 2,
   "metadata": {
    "tags": []
   },
   "outputs": [
    {
     "output_type": "stream",
     "name": "stdout",
     "text": [
      "28\n"
     ]
    }
   ],
   "source": [
    "import sys\n",
    "\n",
    "print(sys.getsizeof(my_value))"
   ]
  },
  {
   "cell_type": "code",
   "execution_count": 3,
   "metadata": {
    "tags": []
   },
   "outputs": [
    {
     "output_type": "stream",
     "name": "stdout",
     "text": [
      "24\n28\n32\n36\n"
     ]
    }
   ],
   "source": [
    "my_var = 0\n",
    "print(sys.getsizeof(my_var))\n",
    "my_var = 1\n",
    "print(sys.getsizeof(my_var))\n",
    "my_var = 2**30\n",
    "print(sys.getsizeof(my_var))\n",
    "my_var = 2**64\n",
    "print(sys.getsizeof(my_var))"
   ]
  },
  {
   "cell_type": "code",
   "execution_count": 4,
   "metadata": {
    "tags": []
   },
   "outputs": [
    {
     "output_type": "stream",
     "name": "stdout",
     "text": [
      "2.0 <class 'float'>\n15 <class 'int'>\n5 <class 'int'>\n50 <class 'int'>\n"
     ]
    }
   ],
   "source": [
    "# Arithmetic Operations\n",
    "# The division of (int / int) => float\n",
    "\n",
    "result = 10 / 5\n",
    "print(result, type(result))\n",
    "\n",
    "result = 10 + 5\n",
    "print(result, type(result))\n",
    "\n",
    "result = 10 - 5\n",
    "print(result, type(result))\n",
    "\n",
    "result = 10 * 5\n",
    "print(result, type(result))"
   ]
  },
  {
   "cell_type": "code",
   "execution_count": 5,
   "metadata": {
    "tags": []
   },
   "outputs": [
    {
     "output_type": "stream",
     "name": "stdout",
     "text": [
      "2 <class 'int'>\n"
     ]
    }
   ],
   "source": [
    "# Integer Division\n",
    "result = 10 // 5\n",
    "print(result, type(result))"
   ]
  },
  {
   "cell_type": "code",
   "execution_count": 6,
   "metadata": {
    "tags": []
   },
   "outputs": [
    {
     "output_type": "stream",
     "name": "stdout",
     "text": [
      "10  =  1  *  7  +  3\n"
     ]
    }
   ],
   "source": [
    "a = 10\n",
    "b = 7\n",
    "\n",
    "integer_div_result = a // b\n",
    "remainder_div_result = a % b\n",
    "\n",
    "print(a, \" = \", integer_div_result, \" * \", b, \" + \", remainder_div_result)"
   ]
  },
  {
   "cell_type": "code",
   "execution_count": 7,
   "metadata": {
    "tags": []
   },
   "outputs": [
    {
     "output_type": "stream",
     "name": "stdout",
     "text": [
      "2\n2\n3\n"
     ]
    }
   ],
   "source": [
    "import math\n",
    "\n",
    "my_value = 2.7\n",
    "print(int(my_value))\n",
    "print(math.floor(my_value))\n",
    "print(math.ceil(my_value))"
   ]
  },
  {
   "cell_type": "code",
   "execution_count": 8,
   "metadata": {
    "tags": []
   },
   "outputs": [
    {
     "output_type": "stream",
     "name": "stdout",
     "text": [
      "-2\n-3\n-2\n"
     ]
    }
   ],
   "source": [
    "my_value = -2.7\n",
    "print(int(my_value))\n",
    "print(math.floor(my_value))\n",
    "print(math.ceil(my_value))"
   ]
  },
  {
   "cell_type": "code",
   "execution_count": null,
   "metadata": {},
   "outputs": [],
   "source": []
  }
 ]
}