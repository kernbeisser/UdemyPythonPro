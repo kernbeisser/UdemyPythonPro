{
 "nbformat": 4,
 "nbformat_minor": 2,
 "metadata": {
  "language_info": {
   "name": "python",
   "codemirror_mode": {
    "name": "ipython",
    "version": 3
   },
   "version": "3.8.5"
  },
  "orig_nbformat": 2,
  "file_extension": ".py",
  "mimetype": "text/x-python",
  "name": "python",
  "npconvert_exporter": "python",
  "pygments_lexer": "ipython3",
  "version": 3,
  "kernelspec": {
   "name": "python385jvsc74a57bd030b9a21e9bf1de12820e893d06bf6b798ee7996149c0a8aa3ef6cb8bb298fd8b",
   "display_name": "Python 3.8.5 64-bit ('base': conda)"
  }
 },
 "cells": [
  {
   "cell_type": "code",
   "execution_count": 1,
   "metadata": {},
   "outputs": [],
   "source": [
    "\"\"\"\n",
    "'is' and 'is not': memory equality\n",
    "'==' and '!=': value equality\n",
    "\n",
    "Is: Identity operator (memory adresses)\n",
    "Value Equality: Operator to compare object values\n",
    "\"\"\""
   ]
  },
  {
   "cell_type": "code",
   "execution_count": 1,
   "metadata": {},
   "outputs": [],
   "source": [
    "my_value1 = 10 # int(10)\n",
    "my_value2 = 10.0 # float(10.0)"
   ]
  },
  {
   "cell_type": "code",
   "execution_count": 6,
   "metadata": {},
   "outputs": [
    {
     "output_type": "stream",
     "name": "stdout",
     "text": [
      "my_value1 == my_value2\n4424030848\n140695972394416\n"
     ]
    }
   ],
   "source": [
    "if my_value1 == my_value2:\n",
    "    print(\"my_value1 == my_value2\")\n",
    "print(id(my_value1))\n",
    "print(id(my_value2))"
   ]
  },
  {
   "cell_type": "code",
   "execution_count": 3,
   "metadata": {},
   "outputs": [],
   "source": [
    "if my_value1 is my_value2:\n",
    "    print(\"my_value1 is my_value2\")"
   ]
  },
  {
   "cell_type": "code",
   "execution_count": 12,
   "metadata": {},
   "outputs": [],
   "source": [
    "my_list1 = [1, 2]\n",
    "my_list2 = [1, 2]"
   ]
  },
  {
   "cell_type": "code",
   "execution_count": 13,
   "metadata": {},
   "outputs": [
    {
     "output_type": "stream",
     "name": "stdout",
     "text": [
      "my_list1 == my_list2\n"
     ]
    }
   ],
   "source": [
    "if my_list1 == my_list2:\n",
    "    print(\"my_list1 == my_list2\")\n",
    "if my_list1 is my_list2:\n",
    "    print(\"my_value1 is my_list2\")"
   ]
  },
  {
   "cell_type": "code",
   "execution_count": null,
   "metadata": {},
   "outputs": [],
   "source": []
  }
 ]
}